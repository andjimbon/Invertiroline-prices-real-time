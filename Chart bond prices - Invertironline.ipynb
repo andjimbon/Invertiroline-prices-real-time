{
 "cells": [
  {
      "cell_type": "markdown",
      "metadata": {
        "id": "1O49td3I7V9w",
        "colab_type": "text"
      },
      "source": [
        "### by Andy Jiménez"
      ]
    },
  {
   "cell_type": "markdown",
   "metadata": {},
   "source": [
    "# Get prices in Real Time - InvertirOnline"
   ]
  },
  {
   "cell_type": "code",
   "execution_count": 0,
   "metadata": {},
   "outputs": [],
   "source": [
    "import requests, json, pandas, datetime, bs4, numpy, re, json, chart_studio\n",
    "from bs4 import BeautifulSoup\n",
    "#import plotly.express as px\n",
    "import plotly.graph_objects as go\n",
    "import chart_studio.plotly as py\n",
    "chart_studio.tools.set_credentials_file(username='Andy_py', api_key='tqSN9V8SsQeyDAjWDkFN')"
   ]
  },
  {
   "cell_type": "markdown",
   "metadata": {},
   "source": [
    "## Argentinian Bonds"
   ]
  },
  {
   "cell_type": "markdown",
   "metadata": {},
   "source": [
    "We can get the real-time prices from the chart of the bond and replicate the curve"
   ]
  },
  {
   "cell_type": "code",
   "execution_count": 0,
   "metadata": {
    "scrolled": true
   },
   "outputs": [],
   "source": [
    "#INTRADIARIO POST REQUEST\n",
    "\n",
    "# BONO\n",
    "url = 'https://www.invertironline.com/titulo/cotizacion/BCBA/AY24/BONOS-NACION-ARGENTINA-USD-8.75--2024'\n",
    "\n",
    "headers={\n",
    "    'Referer': 'https://www.invertirhttps://www.invertironline.com/titulo/cotizacion/BCBA/AY24/BONOS-NACION-ARGENTINA-USD-8.75--2024/graficador',\n",
    "    'Cookie': '_ga=GA1.2.1419134137.1529598737; i18n.langtag=es-AR; utm_path=ID_origen=99&utm_source=Newsletter&utm_medium=email&utm_campaign=NL_IOL_Research_AperturaDeMercado_CA_30-Jul-19&embtrk=7i7,-R-21368403-R-,a8bi-R-ac7,n9; isMobile=0; _hjid=5d2124d6-1d1f-4432-b663-01fdcfc5448e; _gcl_au=1.1.1127974570.1569418667; _fbp=fb.1.1569520643782.1145300030; uid=631261; _gid=GA1.2.904748864.1570629820; __sidglobal=libjy2todwnixmpbhcrwxjsz; isLogged=1; _dc_gtm_UA-189938-1=1',\n",
    "    'X-Requested-With': 'XMLHttpRequest',\n",
    "    'Accept': 'application/json, text/javascript, */*; q=0.01',\n",
    "    'Accept-Encoding': 'gzip, deflate, br',\n",
    "    'Accept-Language': 'en,es;q=0.9,pt;q=0.8',\n",
    "    'Connection': 'keep-alive',\n",
    "    'Host': 'www.invertironline.com',\n",
    "    'User-Agent': 'Mozilla/5.0 (Linux; Android 6.0; Nexus 5 Build/MRA58N) AppleWebKit/537.36 (KHTML, like Gecko) Chrome/77.0.3865.90 Mobile Safari/537.36'\n",
    "}\n",
    "\n",
    "r = requests.post(url, headers=headers)\n",
    "r_ = BeautifulSoup(r.content,'html.parser')\n",
    "\n",
    "#TABLE HEADERS\n",
    "table_header = r_.find('table', id='tablaOpsIntrad').find('thead')\n",
    "\n",
    "t_headers=[]\n",
    "for tr in table_header.find_all('tr'):\n",
    "    row_headers = [td.text for td in tr.find_all('td')]\n",
    "    t_headers.append(row_headers)\n",
    "    \n",
    "t_headers=t_headers[1:][0] #List of lists. Taking the first item\n",
    "\n",
    "# TABLA INTRADIARIA\n",
    "table = r_.find('table', id='tablaOpsIntrad').find('tbody')\n",
    "\n",
    "data=[]\n",
    "for tr in table.find_all('tr'):\n",
    "    row_text = [td.text for td in tr.find_all('td')]\n",
    "    data.append(row_text)\n",
    "\n",
    "# CONVIRTIENDO A DATAFRAME\n",
    "df=pandas.DataFrame(data, columns=t_headers,index=None)\n",
    "\n",
    "# CONFIG PANDAS DECIMALES\n",
    "# pandas.set_option('display.float_format', lambda x: '%.2f' % x) # Convierte números enteros a decimales\n",
    "\n",
    "# HORA\n",
    "df['Hora'] = pandas.to_datetime(df['Hora'])\n",
    "# df.set_index('Hora',inplace=True)\n",
    "# PRECIO\n",
    "df['Precio'] = df['Precio'].str.replace(r'\\D+', '').astype('int64')\n",
    "df.loc[:,'Precio'] /= 1000 # precio en miles\n",
    "# MONTO\n",
    "df['Monto'] = df['Monto'].str.replace(r'$', '').str.replace(r',', '.')\n",
    "# VOLUMEN\n",
    "df['Volumen'] = df['Volumen'].str.replace(r'\\D+', '').astype('int64')\n"
   ]
  },
  {
   "cell_type": "code",
   "execution_count": 0,
   "metadata": {},
   "outputs": [
    {
     "data": {
      "text/html": [
       "\n",
       "        <iframe\n",
       "            width=\"100%\"\n",
       "            height=\"525px\"\n",
       "            src=\"https://plot.ly/~Andy_py/107.embed\"\n",
       "            frameborder=\"0\"\n",
       "            allowfullscreen\n",
       "        ></iframe>\n",
       "        "
      ],
      "text/plain": [
       "<IPython.lib.display.IFrame at 0x1f7e5431ef0>"
      ]
     },
     "execution_count": 0,
     "metadata": {},
     "output_type": "execute_result"
    }
   ],
   "source": [
    "# GRÁFICO INTRADIARIO\n",
    "fig = go.Figure([go.Scatter(x=df['Hora'], y=df['Precio'])])\n",
    "py.iplot(fig)"
   ]
  },
  {
   "cell_type": "markdown",
   "metadata": {},
   "source": [
    "## Get prices when the market is closed "
   ]
  },
  {
   "cell_type": "markdown",
   "metadata": {},
   "source": [
    "From the chart online, we can get the prices and the operations volume"
   ]
  },
  {
   "cell_type": "code",
   "execution_count": 0,
   "metadata": {},
   "outputs": [],
   "source": [
    "#INTRADIARIO GET REQUEST\n",
    "\n",
    "# BONO\n",
    "url = 'https://www.invertironline.com/Titulo/GraficoIntradiario?idTitulo=79217&idTipo=3&idMercado=1'\n",
    "\n",
    "headers={\n",
    "    'Referer': 'https://www.invertironline.com/titulo/cotizacion/BCBA/AY24/BONOS-NACION-ARGENTINA-USD-8.75--2024/',\n",
    "    'Cookie': 'i18n.langtag=es-AR; isMobile=0; _ga=GA1.2.500534755.1569450835; _gid=GA1.2.815734302.1569450835; _gcl_au=1.1.36899437.1569450835; _hjid=812ca257-432f-4c29-9c9e-861419d6c1c6; uid=490908; __sidglobal=tneqg1a2pxysdw4wnroxur05; isLogged=1; _dc_gtm_UA-189938-1=1',\n",
    "    'X-Requested-With': 'XMLHttpRequest',\n",
    "    'Accept': 'application/json, text/javascript, */*; q=0.01',\n",
    "    'Accept-Encoding': 'gzip, deflate, br',\n",
    "    'Accept-Language': 'en,es;q=0.9,pt;q=0.8',\n",
    "    'Connection': 'keep-alive',\n",
    "    'Host': 'www.invertironline.com',\n",
    "    'User-Agent': 'Mozilla/5.0 (Linux; Android 6.0; Nexus 5 Build/MRA58N) AppleWebKit/537.36 (KHTML, like Gecko) Chrome/77.0.3865.90 Mobile Safari/537.36'\n",
    "}\n",
    "\n",
    "r = requests.get(url, headers=headers)\n",
    "# r.content\n",
    "data=json.loads(r.text)"
   ]
  },
  {
   "cell_type": "code",
   "execution_count": 0,
   "metadata": {},
   "outputs": [
    {
     "name": "stdout",
     "output_type": "stream",
     "text": [
      "Ultimas operaciones\n",
      "\n"
     ]
    },
    {
     "data": {
      "text/html": [
       "<div>\n",
       "<style scoped>\n",
       "    .dataframe tbody tr th:only-of-type {\n",
       "        vertical-align: middle;\n",
       "    }\n",
       "\n",
       "    .dataframe tbody tr th {\n",
       "        vertical-align: top;\n",
       "    }\n",
       "\n",
       "    .dataframe thead th {\n",
       "        text-align: right;\n",
       "    }\n",
       "</style>\n",
       "<table border=\"1\" class=\"dataframe\">\n",
       "  <thead>\n",
       "    <tr style=\"text-align: right;\">\n",
       "      <th></th>\n",
       "      <th>Precio</th>\n",
       "      <th>Volumen</th>\n",
       "    </tr>\n",
       "  </thead>\n",
       "  <tbody>\n",
       "    <tr>\n",
       "      <th>16:54</th>\n",
       "      <td>2425.0</td>\n",
       "      <td>14403</td>\n",
       "    </tr>\n",
       "    <tr>\n",
       "      <th>16:54</th>\n",
       "      <td>2424.0</td>\n",
       "      <td>300</td>\n",
       "    </tr>\n",
       "    <tr>\n",
       "      <th>16:54</th>\n",
       "      <td>2422.0</td>\n",
       "      <td>1000</td>\n",
       "    </tr>\n",
       "    <tr>\n",
       "      <th>16:55</th>\n",
       "      <td>2425.0</td>\n",
       "      <td>250</td>\n",
       "    </tr>\n",
       "    <tr>\n",
       "      <th>16:55</th>\n",
       "      <td>2428.0</td>\n",
       "      <td>25734</td>\n",
       "    </tr>\n",
       "    <tr>\n",
       "      <th>16:55</th>\n",
       "      <td>2428.0</td>\n",
       "      <td>6000</td>\n",
       "    </tr>\n",
       "    <tr>\n",
       "      <th>16:55</th>\n",
       "      <td>2421.0</td>\n",
       "      <td>26000</td>\n",
       "    </tr>\n",
       "    <tr>\n",
       "      <th>16:57</th>\n",
       "      <td>2382.6</td>\n",
       "      <td>2631580</td>\n",
       "    </tr>\n",
       "    <tr>\n",
       "      <th>16:58</th>\n",
       "      <td>2394.0</td>\n",
       "      <td>2631580</td>\n",
       "    </tr>\n",
       "    <tr>\n",
       "      <th>17:00</th>\n",
       "      <td>2394.0</td>\n",
       "      <td>2631580</td>\n",
       "    </tr>\n",
       "    <tr>\n",
       "      <th>17:00</th>\n",
       "      <td>2421.0</td>\n",
       "      <td>57875401</td>\n",
       "    </tr>\n",
       "    <tr>\n",
       "      <th>17:00</th>\n",
       "      <td>2421.0</td>\n",
       "      <td>1273</td>\n",
       "    </tr>\n",
       "    <tr>\n",
       "      <th>17:00</th>\n",
       "      <td>2421.0</td>\n",
       "      <td>3664</td>\n",
       "    </tr>\n",
       "    <tr>\n",
       "      <th>17:00</th>\n",
       "      <td>2421.0</td>\n",
       "      <td>6978</td>\n",
       "    </tr>\n",
       "    <tr>\n",
       "      <th>17:00</th>\n",
       "      <td>2421.0</td>\n",
       "      <td>15000</td>\n",
       "    </tr>\n",
       "    <tr>\n",
       "      <th>17:00</th>\n",
       "      <td>2421.0</td>\n",
       "      <td>7600</td>\n",
       "    </tr>\n",
       "    <tr>\n",
       "      <th>17:00</th>\n",
       "      <td>2421.0</td>\n",
       "      <td>422</td>\n",
       "    </tr>\n",
       "    <tr>\n",
       "      <th>17:00</th>\n",
       "      <td>2421.0</td>\n",
       "      <td>1234</td>\n",
       "    </tr>\n",
       "    <tr>\n",
       "      <th>17:00</th>\n",
       "      <td>2421.0</td>\n",
       "      <td>99</td>\n",
       "    </tr>\n",
       "    <tr>\n",
       "      <th>17:00</th>\n",
       "      <td>2421.0</td>\n",
       "      <td>1</td>\n",
       "    </tr>\n",
       "  </tbody>\n",
       "</table>\n",
       "</div>"
      ],
      "text/plain": [
       "       Precio   Volumen\n",
       "16:54  2425.0     14403\n",
       "16:54  2424.0       300\n",
       "16:54  2422.0      1000\n",
       "16:55  2425.0       250\n",
       "16:55  2428.0     25734\n",
       "16:55  2428.0      6000\n",
       "16:55  2421.0     26000\n",
       "16:57  2382.6   2631580\n",
       "16:58  2394.0   2631580\n",
       "17:00  2394.0   2631580\n",
       "17:00  2421.0  57875401\n",
       "17:00  2421.0      1273\n",
       "17:00  2421.0      3664\n",
       "17:00  2421.0      6978\n",
       "17:00  2421.0     15000\n",
       "17:00  2421.0      7600\n",
       "17:00  2421.0       422\n",
       "17:00  2421.0      1234\n",
       "17:00  2421.0        99\n",
       "17:00  2421.0         1"
      ]
     },
     "execution_count": 0,
     "metadata": {},
     "output_type": "execute_result"
    }
   ],
   "source": [
    "hora,precio,volumen=[],[],[]\n",
    "\n",
    "for i in data:\n",
    "    h = datetime.datetime.utcfromtimestamp(int(i['FechaHora'])).strftime('%H:%M')\n",
    "    hora.append(h)\n",
    "    precio.append(float(i['Ultima']))\n",
    "    volumen.append(int(i['CantidadNominal']))\n",
    "    \n",
    "pretable = {}\n",
    "pretable[\"Precio\"],pretable[\"Volumen\"] = precio,volumen\n",
    "table = pandas.DataFrame(pretable, columns=[\"Precio\",\"Volumen\"],index=hora)\n",
    "print(\"Ultimas operaciones\\n\")\n",
    "table.tail(20)"
   ]
  },
  {
   "cell_type": "code",
   "execution_count": 0,
   "metadata": {},
   "outputs": [
    {
     "data": {
      "text/html": [
       "\n",
       "        <iframe\n",
       "            width=\"100%\"\n",
       "            height=\"525px\"\n",
       "            src=\"https://plot.ly/~Andy_py/109.embed\"\n",
       "            frameborder=\"0\"\n",
       "            allowfullscreen\n",
       "        ></iframe>\n",
       "        "
      ],
      "text/plain": [
       "<IPython.lib.display.IFrame at 0x1f7e469b1d0>"
      ]
     },
     "execution_count": 0,
     "metadata": {},
     "output_type": "execute_result"
    }
   ],
   "source": [
    "fig = go.Figure([go.Scatter(x=df['Hora'], y=df['Precio'])])\n",
    "py.iplot(fig)"
   ]
  },
  {
   "cell_type": "code",
   "execution_count": null,
   "metadata": {},
   "outputs": [],
   "source": []
  }
 ],
 "metadata": {
  "kernelspec": {
   "display_name": "Python 3",
   "language": "python",
   "name": "python3"
  },
  "language_info": {
   "codemirror_mode": {
    "name": "ipython",
    "version": 3
   },
   "file_extension": ".py",
   "mimetype": "text/x-python",
   "name": "python",
   "nbconvert_exporter": "python",
   "pygments_lexer": "ipython3",
   "version": "3.6.4"
  }
 },
 "nbformat": 4,
 "nbformat_minor": 2
}
